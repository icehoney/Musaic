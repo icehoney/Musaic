{
 "cells": [
  {
   "cell_type": "code",
   "execution_count": null,
   "metadata": {
    "collapsed": true
   },
   "outputs": [],
   "source": [
    "import librosa\n",
    "import IPython\n",
    "import glob\n",
    "import os\n",
    "from tqdm import tqdm_notebook as tqdm\n",
    "#tqdm is the progress bar\n",
    "import matplotlib.pyplot as plt\n",
    "from librosa import display\n",
    "import numpy as np\n",
    "%matplotlib inline"
   ]
  },
  {
   "cell_type": "code",
   "execution_count": null,
   "metadata": {
    "collapsed": true
   },
   "outputs": [],
   "source": [
    "def compute_melspec(audio_path, sr=22050, n_mels=96):\n",
    "    y, _ = librosa.load(audio_path, sr=sr)\n",
    "    Y = librosa.feature.melspectrogram(y=y, sr=sr, n_mels=n_mels)\n",
    "    return librosa.power_to_db(Y, ref=np.max)\n",
    "\n",
    "def convert_path(audio_path):\n",
    "    npy_path = audio_path[:-3] + \"npy\"\n",
    "    return npy_path.replace(\"mp3s\", \"Melspecs\", 1)\n",
    "    \n",
    "def ensure_dir(path):\n",
    "    d = os.path.dirname(path)\n",
    "    if not os.path.isdir(d):\n",
    "        os.mkdir(d)"
   ]
  },
  {
   "cell_type": "code",
   "execution_count": null,
   "metadata": {},
   "outputs": [],
   "source": [
    "melspec = compute_melspec(\"../data/TheTourist-171222.mp3\")\n",
    "np.save(\"../data/test.npy\", melspec)"
   ]
  },
  {
   "cell_type": "code",
   "execution_count": null,
   "metadata": {
    "collapsed": true
   },
   "outputs": [],
   "source": [
    "mp3_files = glob.glob(\"../data/mp3s/*/*.mp3\")"
   ]
  },
  {
   "cell_type": "code",
   "execution_count": null,
   "metadata": {},
   "outputs": [],
   "source": [
    "len(mp3_files)"
   ]
  },
  {
   "cell_type": "code",
   "execution_count": null,
   "metadata": {},
   "outputs": [],
   "source": [
    "# '../data/mp3s/0/abc.mp3' -> '../data/Melspecs/0/abc.npy'\n",
    "for mp3_file in tqdm(mp3_files[10687:16000]):\n",
    "    try:\n",
    "        melspec = compute_melspec(mp3_file, sr=16000)\n",
    "    except EOFError:\n",
    "        print(\"This failed!\", mp3_file)\n",
    "    npy_file = convert_path(mp3_file)\n",
    "    ensure_dir(npy_file)\n",
    "    np.save(npy_file, melspec)"
   ]
  },
  {
   "cell_type": "code",
   "execution_count": null,
   "metadata": {},
   "outputs": [],
   "source": [
    "test_str = \"../data/mp3s/0/Hello World_mp3s.mp3\"\n",
    "test2 = test_str[:-3] + \"npy\"\n",
    "os.path.dirname(test2.replace(\"mp3s\", \"Melspecs\", 1))"
   ]
  },
  {
   "cell_type": "code",
   "execution_count": null,
   "metadata": {
    "collapsed": true
   },
   "outputs": [],
   "source": []
  }
 ],
 "metadata": {
  "kernelspec": {
   "display_name": "Python 3",
   "language": "python",
   "name": "python3"
  },
  "language_info": {
   "codemirror_mode": {
    "name": "ipython",
    "version": 3
   },
   "file_extension": ".py",
   "mimetype": "text/x-python",
   "name": "python",
   "nbconvert_exporter": "python",
   "pygments_lexer": "ipython3",
   "version": "3.6.3"
  }
 },
 "nbformat": 4,
 "nbformat_minor": 2
}
