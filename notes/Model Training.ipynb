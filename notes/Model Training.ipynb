{
 "cells": [
  {
   "cell_type": "code",
   "execution_count": 1,
   "metadata": {},
   "outputs": [
    {
     "name": "stderr",
     "output_type": "stream",
     "text": [
      "Using TensorFlow backend.\n"
     ]
    }
   ],
   "source": [
    "from keras.models import Sequential\n",
    "from keras.utils import np_utils\n",
    "from keras.layers.core import Dense, Activation, Dropout\n",
    "\n",
    "import pandas as pd\n",
    "import numpy as np"
   ]
  },
  {
   "cell_type": "code",
   "execution_count": 48,
   "metadata": {},
   "outputs": [],
   "source": [
    "X = np.load(\"../data/Train/X.npy\")\n",
    "Y = np.load(\"../data/Y.npy\")"
   ]
  },
  {
   "cell_type": "code",
   "execution_count": 54,
   "metadata": {},
   "outputs": [],
   "source": [
    "# pre-processing: divide by max and substract mean\n",
    "scale = np.max(X)\n",
    "X /= scale\n",
    "\n",
    "mean = np.std(X)\n",
    "X -= mean\n",
    "\n",
    "input_dim = X.shape[1]\n",
    "nb_classes = Y.shape[1]"
   ]
  },
  {
   "cell_type": "code",
   "execution_count": 51,
   "metadata": {},
   "outputs": [],
   "source": [
    "# Here's a Deep Dumb MLP (DDMLP)\n",
    "model = Sequential()\n",
    "model.add(Dense(512, input_dim=input_dim))\n",
    "model.add(Activation('relu'))\n",
    "model.add(Dropout(0.15))\n",
    "model.add(Dense(512))\n",
    "model.add(Activation('relu'))\n",
    "model.add(Dropout(0.15))\n",
    "model.add(Dense(nb_classes))\n",
    "model.add(Activation('sigmoid'))"
   ]
  },
  {
   "cell_type": "code",
   "execution_count": 59,
   "metadata": {
    "collapsed": true
   },
   "outputs": [],
   "source": [
    "model.compile(loss='binary_crossentropy', optimizer='adam', metrics=[\"accuracy\"])\n"
   ]
  },
  {
   "cell_type": "code",
   "execution_count": 61,
   "metadata": {},
   "outputs": [
    {
     "name": "stdout",
     "output_type": "stream",
     "text": [
      "Training...\n",
      "Train on 23276 samples, validate on 2587 samples\n",
      "Epoch 1/10\n",
      " - 6s - loss: 0.0856 - acc: 0.9790 - val_loss: 0.0704 - val_acc: 0.9812\n",
      "Epoch 2/10\n",
      " - 5s - loss: 0.0717 - acc: 0.9817 - val_loss: 0.0668 - val_acc: 0.9813\n",
      "Epoch 3/10\n",
      " - 6s - loss: 0.0693 - acc: 0.9817 - val_loss: 0.0677 - val_acc: 0.9813\n",
      "Epoch 4/10\n",
      " - 6s - loss: 0.0688 - acc: 0.9817 - val_loss: 0.0626 - val_acc: 0.9813\n",
      "Epoch 5/10\n",
      " - 6s - loss: 0.0674 - acc: 0.9818 - val_loss: 0.0678 - val_acc: 0.9815\n",
      "Epoch 6/10\n",
      " - 5s - loss: 0.0673 - acc: 0.9818 - val_loss: 0.0636 - val_acc: 0.9814\n",
      "Epoch 7/10\n",
      " - 5s - loss: 0.0669 - acc: 0.9818 - val_loss: 0.0639 - val_acc: 0.9816\n",
      "Epoch 8/10\n",
      " - 6s - loss: 0.0659 - acc: 0.9818 - val_loss: 0.0612 - val_acc: 0.9817\n",
      "Epoch 9/10\n",
      " - 6s - loss: 0.0656 - acc: 0.9819 - val_loss: 0.0628 - val_acc: 0.9818\n",
      "Epoch 10/10\n",
      " - 5s - loss: 0.0654 - acc: 0.9819 - val_loss: 0.0611 - val_acc: 0.9817\n"
     ]
    },
    {
     "data": {
      "text/plain": [
       "<keras.callbacks.History at 0x1825d9f710>"
      ]
     },
     "execution_count": 61,
     "metadata": {},
     "output_type": "execute_result"
    }
   ],
   "source": [
    "print(\"Training...\")\n",
    "model.fit(X, Y, epochs=10, batch_size=64, validation_split=0.1, verbose=2)"
   ]
  },
  {
   "cell_type": "code",
   "execution_count": null,
   "metadata": {
    "collapsed": true
   },
   "outputs": [],
   "source": []
  }
 ],
 "metadata": {
  "kernelspec": {
   "display_name": "Python 3",
   "language": "python",
   "name": "python3"
  },
  "language_info": {
   "codemirror_mode": {
    "name": "ipython",
    "version": 3
   },
   "file_extension": ".py",
   "mimetype": "text/x-python",
   "name": "python",
   "nbconvert_exporter": "python",
   "pygments_lexer": "ipython3",
   "version": "3.6.3"
  }
 },
 "nbformat": 4,
 "nbformat_minor": 2
}
